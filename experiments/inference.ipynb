{
 "cells": [
  {
   "cell_type": "code",
   "execution_count": 1,
   "id": "c080c5f2-ec97-4b18-994b-d567196942a8",
   "metadata": {
    "tags": []
   },
   "outputs": [
    {
     "name": "stdout",
     "output_type": "stream",
     "text": [
      "['/home/ec2-user/anaconda3/envs/python3/lib/python310.zip', '/home/ec2-user/anaconda3/envs/python3/lib/python3.10', '/home/ec2-user/anaconda3/envs/python3/lib/python3.10/lib-dynload', '', '/home/ec2-user/anaconda3/envs/python3/lib/python3.10/site-packages', '/home/ec2-user/SageMaker/UPLOAD']\n"
     ]
    }
   ],
   "source": [
    "import os, sys\n",
    "from pathlib import Path\n",
    "\n",
    "cwd = os.getcwd()\n",
    "\n",
    "path_root = Path(cwd).parents[0]\n",
    "sys.path.append(str(path_root))\n",
    "os.chdir(path_root)\n",
    "print(sys.path)"
   ]
  },
  {
   "cell_type": "code",
   "execution_count": null,
   "id": "5966edca-616c-42b2-a9bb-5d1908c76df2",
   "metadata": {},
   "outputs": [],
   "source": []
  },
  {
   "cell_type": "code",
   "execution_count": null,
   "id": "86a11232-23c1-45f6-adcf-5d8c7f30cf78",
   "metadata": {},
   "outputs": [],
   "source": []
  },
  {
   "cell_type": "code",
   "execution_count": null,
   "id": "d9746ae4-7aad-41cd-bd90-9cfd03bc980b",
   "metadata": {},
   "outputs": [],
   "source": []
  },
  {
   "cell_type": "code",
   "execution_count": null,
   "id": "5afe0acc-298f-4004-b157-1025eca9a6b7",
   "metadata": {},
   "outputs": [],
   "source": []
  },
  {
   "cell_type": "code",
   "execution_count": null,
   "id": "3dbd6694-6a99-45f9-ade4-7a8add915784",
   "metadata": {},
   "outputs": [],
   "source": []
  },
  {
   "cell_type": "code",
   "execution_count": null,
   "id": "e77bc89a-6842-4b43-8718-408e38f57540",
   "metadata": {
    "tags": []
   },
   "outputs": [],
   "source": [
    "%%writefile src/endpoint_script.py\n",
    "\n",
    "from io import StringIO \n",
    "import joblib, os\n",
    "import pandas as pd\n",
    "\n",
    "def input_fn(request_body, request_content_type):\n",
    "    print(request_body)\n",
    "    print(request_content_type)\n",
    "    if request_content_type == \"text/csv\":\n",
    "        request_body = request_body.strip()\n",
    "        try:\n",
    "            df = pd.read_csv(StringIO(request_body), header=None)\n",
    "            return df\n",
    "        \n",
    "        except Exception as e:\n",
    "            print(e)\n",
    "    else:\n",
    "        return \"\"\"Please use Content-Type = 'text/csv' and, send the request!!\"\"\" \n",
    " \n",
    "    \n",
    "def model_fn(model_dir):\n",
    "    clf = joblib.load(os.path.join(model_dir, \"model.joblib\"))\n",
    "    return clf\n",
    "\n",
    "def predict_fn(input_data, model):\n",
    "    if type(input_data) != str:\n",
    "        prediction = model.predict(input_data)\n",
    "        print(prediction)\n",
    "        return prediction\n",
    "    else:\n",
    "        return input_data"
   ]
  },
  {
   "cell_type": "code",
   "execution_count": null,
   "id": "f351651d-75ca-4618-adf6-dfc6a459e37d",
   "metadata": {},
   "outputs": [],
   "source": []
  }
 ],
 "metadata": {
  "kernelspec": {
   "display_name": "conda_python3",
   "language": "python",
   "name": "conda_python3"
  },
  "language_info": {
   "codemirror_mode": {
    "name": "ipython",
    "version": 3
   },
   "file_extension": ".py",
   "mimetype": "text/x-python",
   "name": "python",
   "nbconvert_exporter": "python",
   "pygments_lexer": "ipython3",
   "version": "3.10.14"
  }
 },
 "nbformat": 4,
 "nbformat_minor": 5
}
